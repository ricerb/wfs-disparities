{
 "cells": [
  {
   "cell_type": "code",
   "execution_count": 2,
   "metadata": {},
   "outputs": [],
   "source": [
    "\"\"\"Update income data per Tom Luben's suggestion in technical review, quartile-ranked within CBSAs where available or state if not.\n",
    "\n",
    "From Tom Luben's 6/14/2024 email:\n",
    "\n",
    "•\tFor all tracts within a CBSA: Identify if census tract is in 1st, 2nd, 3rd, or 4th quartile of Median Household Income compared with all other census tracts in that CBSA.\n",
    "•\tFor all tracts outside of a CBSA: Identify if census tract is in 1st, 2nd, 3rd, or 4th quartile of Median Household Income compared with all other census tracts in the same state that are not in a CBSA.\n",
    "\n",
    "Data dictionary:\n",
    "\n",
    "CBSAFP10: 2010 Census Core-Based Statistical Area (CBSA) unique five-digit identifiers. Rows with blanks indicate a census tract is outside of a CBSA.\n",
    "HINC0A_10: 2008-2012 American Community Survey (ACS) sample median household income estimated within 2010 tract boundaries.\n",
    "\n",
    "\"\"\"\n",
    "\n",
    "import pandas as pd\n",
    "import numpy as np"
   ]
  },
  {
   "cell_type": "code",
   "execution_count": 3,
   "metadata": {},
   "outputs": [],
   "source": [
    "df = pd.read_csv(\n",
    "    \"C:/Users/RRice/OneDrive - Environmental Protection Agency (EPA)/exposure disparities/luben income data/GentrificationIndex_Tracts10_export/GentrificationIndex_Tracts10_export.csv\",\n",
    "    dtype={\"GEOID10\": \"str\", \"HINC0A_10\": \"float\"},\n",
    ")"
   ]
  },
  {
   "cell_type": "code",
   "execution_count": 4,
   "metadata": {},
   "outputs": [],
   "source": [
    "# fill placeholder values with NA in 2010 household income column\n",
    "# turn ID fields into str\n",
    "# appropriately handle missing values\n",
    "df[\"HINC0A_10\"] = df[\"HINC0A_10\"].replace(-999, np.nan)\n",
    "\n",
    "df[\"CBSAFP10\"] = df[\"CBSAFP10\"].astype(str).str.replace(\".0\", \"\")\n",
    "df[\"CBSAFP10\"] = df[\"CBSAFP10\"].replace(\"nan\", pd.NA)\n",
    "\n",
    "df.set_index(\"GEOID10\", inplace=True)\n",
    "\n",
    "# 618 NA values, 0.86% of the data. Dropping these rows\n",
    "df = df.dropna(subset=[\"HINC0A_10\"])"
   ]
  },
  {
   "cell_type": "code",
   "execution_count": null,
   "metadata": {},
   "outputs": [],
   "source": [
    "df[\"HINC0A_10\"]"
   ]
  },
  {
   "cell_type": "code",
   "execution_count": null,
   "metadata": {},
   "outputs": [],
   "source": [
    "def quartile_rank(df):\n",
    "    \"\"\"Quartile rank 2010 household income.\"\"\"\n",
    "    return pd.qcut(df[\"HINC0A_10\"], 4, duplicates=\"drop\", labels=False) + 1\n",
    "\n",
    "\n",
    "# where there is a CBSAFP10 value, group tracts by CBSA and quartile rank\n",
    "df_cbsa = df.loc[df.CBSAFP10.notna()].copy()\n",
    "\n",
    "# group tracts outside of CBSAs by state and quartile rank\n",
    "df_no_cbsa = df.loc[df.CBSAFP10.isna()].copy()\n",
    "\n",
    "df_cbsa_income = df_cbsa.groupby(\"CBSAFP10\").apply(quartile_rank).reset_index()\n",
    "df_state_income = df_no_cbsa.groupby(\"STATE\").apply(quartile_rank).reset_index()\n",
    "\n",
    "outdf = pd.concat([df_cbsa_income, df_state_income])[[\"GEOID10\", \"HINC0A_10\"]]"
   ]
  },
  {
   "cell_type": "code",
   "execution_count": null,
   "metadata": {},
   "outputs": [],
   "source": [
    "# there are 36 duplicates due to values falling on the border between quartiles\n",
    "outdf.loc[outdf.GEOID10.duplicated(keep=\"first\")].shape[0]"
   ]
  },
  {
   "cell_type": "code",
   "execution_count": 12,
   "metadata": {},
   "outputs": [],
   "source": [
    "# randomly assign one of the quartiles to the duplicates\n",
    "outdf = outdf.sample(frac=1).drop_duplicates(subset=[\"GEOID10\"], keep=\"first\")"
   ]
  },
  {
   "cell_type": "code",
   "execution_count": null,
   "metadata": {},
   "outputs": [],
   "source": [
    "# there are now 0 duplicates\n",
    "outdf.loc[outdf.GEOID10.duplicated(keep=\"first\")].shape[0]"
   ]
  },
  {
   "cell_type": "code",
   "execution_count": 14,
   "metadata": {},
   "outputs": [],
   "source": [
    "outdf.columns = [\"GEOID10\", \"Income quartile\"]"
   ]
  },
  {
   "cell_type": "code",
   "execution_count": 15,
   "metadata": {},
   "outputs": [],
   "source": [
    "outdf.set_index(\"GEOID10\").to_csv(\n",
    "    \"C:/Users/RRice/OneDrive - Environmental Protection Agency (EPA)/exposure disparities/thesis intermediate dataset/updated Census tract income quartiles 6-17-2024.csv\"\n",
    ")"
   ]
  },
  {
   "cell_type": "code",
   "execution_count": null,
   "metadata": {},
   "outputs": [],
   "source": [
    "outdf"
   ]
  },
  {
   "cell_type": "code",
   "execution_count": null,
   "metadata": {},
   "outputs": [],
   "source": []
  }
 ],
 "metadata": {
  "kernelspec": {
   "display_name": "thesis",
   "language": "python",
   "name": "python3"
  },
  "language_info": {
   "codemirror_mode": {
    "name": "ipython",
    "version": 3
   },
   "file_extension": ".py",
   "mimetype": "text/x-python",
   "name": "python",
   "nbconvert_exporter": "python",
   "pygments_lexer": "ipython3",
   "version": "3.11.7"
  }
 },
 "nbformat": 4,
 "nbformat_minor": 2
}
