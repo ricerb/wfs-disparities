{
 "cells": [
  {
   "cell_type": "code",
   "execution_count": 1,
   "metadata": {},
   "outputs": [],
   "source": [
    "\"\"\"Total PM2.5 time series plots.\"\"\"\n",
    "\n",
    "import pandas as pd\n",
    "import seaborn as sns"
   ]
  },
  {
   "cell_type": "code",
   "execution_count": 2,
   "metadata": {},
   "outputs": [],
   "source": [
    "df = pd.read_parquet(\"data/total + wildfire pm and demographic data 11-22-2023.parquet\")\n",
    "sns.set_context(\"paper\", font_scale=1.5, rc={\"figure.dpi\": 300})"
   ]
  },
  {
   "cell_type": "code",
   "execution_count": 4,
   "metadata": {},
   "outputs": [],
   "source": [
    "# calculate population weighted mean concentration by race for the CONUS and by region\n",
    "\n",
    "race_ethnicities = [\n",
    "    \"Hispanic\",\n",
    "    \"NH White\",\n",
    "    \"NH Black\",\n",
    "    \"NH American Indian and Alaska Native\",\n",
    "    \"NH Asian\",\n",
    "    \"NH Native Hawaiian and Other Pacific Islander\",\n",
    "    \"NH Other\",\n",
    "    \"Total Population\",\n",
    "]\n",
    "\n",
    "years = [str(x) for x in range(2007, 2019)]\n",
    "datasets = [\"PM_nofire\", \"PM_wf\", \"wfpm25_childs\", \"PM_total\"]\n",
    "\n",
    "dflist = []\n",
    "i = 0\n",
    "\n",
    "for race_ethnicity in race_ethnicities:\n",
    "    for year in years:\n",
    "        for dataset in datasets:\n",
    "            try:\n",
    "                pop_weighted_mean = (\n",
    "                    df[f\"{dataset}_{year}\"] * df[race_ethnicity]\n",
    "                ).sum() / df[race_ethnicity].sum()\n",
    "\n",
    "                dft = pd.DataFrame(\n",
    "                    {\n",
    "                        \"EPA Region\": \"CONUS\",\n",
    "                        \"Race/ethnicity\": race_ethnicity,\n",
    "                        \"Year\": year,\n",
    "                        \"Dataset\": dataset,\n",
    "                        \"Pop-weighted mean\": pop_weighted_mean,\n",
    "                    },\n",
    "                    index=[i],\n",
    "                )\n",
    "                dflist.append(dft)\n",
    "                i += 1\n",
    "            except:\n",
    "                pass\n",
    "\n",
    "df_pop_weighted = pd.concat(dflist)"
   ]
  },
  {
   "cell_type": "code",
   "execution_count": 5,
   "metadata": {},
   "outputs": [],
   "source": [
    "df_pop_weighted[\"Region sort\"] = df_pop_weighted[\"EPA Region\"].map(\n",
    "    {\n",
    "        \"CONUS\": 0,\n",
    "        \"Region 1\": 1,\n",
    "        \"Region 2\": 2,\n",
    "        \"Region 3\": 3,\n",
    "        \"Region 4\": 4,\n",
    "        \"Region 5\": 5,\n",
    "        \"Region 6\": 6,\n",
    "        \"Region 7\": 7,\n",
    "        \"Region 8\": 8,\n",
    "        \"Region 9\": 9,\n",
    "        \"Region 10\": 10,\n",
    "    }\n",
    ")\n",
    "\n",
    "df_pop_weighted[\"Year\"] = df_pop_weighted[\"Year\"].astype(int)\n",
    "\n",
    "df_pop_weighted[\"Dataset\"] = df_pop_weighted[\"Dataset\"].replace(\n",
    "    {\n",
    "        \"wfpm25_childs\": \"Wildfire PM2.5 (Childs et al.)\",\n",
    "        \"PM_nofire\": \"Non-fire\",\n",
    "        \"PM_wf\": \"Fire\",\n",
    "        \"PM_total\": \"Total\",\n",
    "    }\n",
    ")"
   ]
  },
  {
   "cell_type": "code",
   "execution_count": null,
   "metadata": {},
   "outputs": [],
   "source": [
    "for i, race_ethnicity in enumerate([\"Total Population\"]):\n",
    "    df_test = (\n",
    "        df_pop_weighted.loc[\n",
    "            (df_pop_weighted[\"Race/ethnicity\"] == race_ethnicity)\n",
    "            & (df_pop_weighted[\"EPA Region\"] == \"CONUS\")\n",
    "            & ~df_pop_weighted[\"Dataset\"].isin(\n",
    "                [\"Total\", \"Wildfire PM2.5 (Childs et al.)\"]\n",
    "            )\n",
    "        ]\n",
    "        .set_index([\"Year\", \"Dataset\"])\n",
    "        .unstack(\"Dataset\")[\"Pop-weighted mean\"]\n",
    "    )\n",
    "df_test.head()"
   ]
  },
  {
   "cell_type": "code",
   "execution_count": null,
   "metadata": {},
   "outputs": [],
   "source": [
    "# create a stacked bar plot for each racial/ethnic group\n",
    "import matplotlib.pyplot as plt\n",
    "\n",
    "sns.set_theme(\"notebook\", \"ticks\")\n",
    "\n",
    "fig, ax = plt.subplots(1, 1, figsize=(8, 4.5), sharex=True, sharey=True)\n",
    "\n",
    "for i, race_ethnicity in enumerate([\"Total Population\"]):\n",
    "    df_pop_weighted.loc[\n",
    "        (df_pop_weighted[\"Race/ethnicity\"] == race_ethnicity)\n",
    "        & (df_pop_weighted[\"EPA Region\"] == \"CONUS\")\n",
    "        & ~df_pop_weighted[\"Dataset\"].isin([\"Total\", \"Wildfire PM2.5 (Childs et al.)\"])\n",
    "    ].set_index([\"Year\", \"Dataset\"]).unstack(\"Dataset\")[\"Pop-weighted mean\"][\n",
    "        [\"Non-fire\", \"Fire\"]\n",
    "    ].plot(\n",
    "        ax=ax,\n",
    "        kind=\"bar\",\n",
    "        stacked=True,\n",
    "        title=\"\",\n",
    "        color=[\"gray\", \"darkgreen\"],\n",
    "        legend=False,\n",
    "    )\n",
    "\n",
    "    # set ylim\n",
    "    ax.set_ylim(6.8, 12.2)\n",
    "\n",
    "    # set y axis label with subscript\n",
    "    ax.set_ylabel(\"Pop. weighted mean PM$_{2.5}$ (μg/m³)\", fontsize=14)\n",
    "\n",
    "\n",
    "# set shared legend for whole plot\n",
    "ax.legend(\n",
    "    bbox_to_anchor=(0.5, -0.2),\n",
    "    loc=\"upper center\",\n",
    "    ncol=2,\n",
    "    title=\"\",\n",
    "    frameon=False,\n",
    "    fontsize=12,\n",
    ")\n",
    "\n",
    "ax.tick_params(labelrotation=45)\n",
    "ax.set_xlabel(\"\")\n",
    "\n",
    "# remove top and right axis frames\n",
    "sns.despine()\n",
    "\n",
    "\n",
    "fig.tight_layout()\n",
    "\n",
    "# save figure\n",
    "fig.savefig(\n",
    "    \"figures/2006-2020 population-weighted means (total).png\",\n",
    "    dpi=300,\n",
    "    bbox_inches=\"tight\",\n",
    ")"
   ]
  },
  {
   "cell_type": "code",
   "execution_count": null,
   "metadata": {},
   "outputs": [],
   "source": [
    "# number of people living in areas with total (wildfire + non-fire) pm2.5 > 8 ug/m3\n",
    "\n",
    "print(df.loc[df[\"PM_total_2017\"] > 8][\"Total Population\"].sum())\n",
    "\n",
    "# number of people living in areas with non-fire PM2.5 > 8 ug/m3\n",
    "print(df.loc[df[\"PM_nofire_2017\"] > 8][\"Total Population\"].sum())"
   ]
  },
  {
   "cell_type": "code",
   "execution_count": null,
   "metadata": {},
   "outputs": [],
   "source": [
    "df_total_pop = (\n",
    "    df_pop_weighted.loc[\n",
    "        (df_pop_weighted[\"Race/ethnicity\"] == \"Total Population\")\n",
    "        & (df_pop_weighted[\"EPA Region\"] == \"CONUS\")\n",
    "        & (df_pop_weighted[\"Dataset\"] != \"Wildfire PM2.5 (Childs et al.)\")\n",
    "    ]\n",
    "    .set_index([\"Year\", \"Dataset\"])\n",
    "    .unstack(\"Dataset\")[\"Pop-weighted mean\"]\n",
    ")\n",
    "df_total_pop"
   ]
  },
  {
   "cell_type": "code",
   "execution_count": null,
   "metadata": {},
   "outputs": [],
   "source": [
    "df_total_pop[\"% Fire\"] = df_total_pop[\"Fire\"] / df_total_pop[\"Total\"] * 100\n",
    "df_total_pop"
   ]
  },
  {
   "cell_type": "code",
   "execution_count": null,
   "metadata": {},
   "outputs": [],
   "source": [
    "fig, ax = plt.subplots(1, 1, figsize=(8, 4.5), sharex=True, sharey=True)\n",
    "\n",
    "# plot time series using seaborn of % fire\n",
    "fig = sns.lineplot(\n",
    "    data=df_total_pop,\n",
    "    ax=ax,\n",
    "    x=\"Year\",\n",
    "    y=\"% Fire\",\n",
    "    markers=True,\n",
    ")\n",
    "# remove top and right axis frames\n",
    "sns.despine()\n",
    "ax.tick_params(labelrotation=45)\n",
    "ax.set_xlabel(\"\")\n",
    "\n",
    "# set tick location to every year\n",
    "ax.xaxis.set_major_locator(plt.MaxNLocator(14))"
   ]
  },
  {
   "cell_type": "code",
   "execution_count": null,
   "metadata": {},
   "outputs": [],
   "source": [
    "# calculate percent difference in total pop weighted pm2.5 from 2007 to 2018\n",
    "pm2007 = df_total_pop.loc[2007, \"Total\"]\n",
    "pm2018 = df_total_pop.loc[2018, \"Total\"]\n",
    "\n",
    "percent_difference = ((pm2018 - pm2007) / pm2007) * 100\n",
    "percent_difference"
   ]
  },
  {
   "cell_type": "code",
   "execution_count": null,
   "metadata": {},
   "outputs": [],
   "source": [
    "# calculate percent difference in non-fire pop weighted pm2.5 from 2007 to 2018\n",
    "pm2007 = df_total_pop.loc[2007, \"Non-fire\"]\n",
    "pm2018 = df_total_pop.loc[2018, \"Non-fire\"]\n",
    "\n",
    "percent_difference = ((pm2018 - pm2007) / pm2007) * 100\n",
    "percent_difference"
   ]
  },
  {
   "cell_type": "code",
   "execution_count": null,
   "metadata": {},
   "outputs": [],
   "source": []
  }
 ],
 "metadata": {
  "kernelspec": {
   "display_name": "geocube_env",
   "language": "python",
   "name": "python3"
  },
  "language_info": {
   "codemirror_mode": {
    "name": "ipython",
    "version": 3
   },
   "file_extension": ".py",
   "mimetype": "text/x-python",
   "name": "python",
   "nbconvert_exporter": "python",
   "pygments_lexer": "ipython3",
   "version": "3.11.7"
  },
  "orig_nbformat": 4
 },
 "nbformat": 4,
 "nbformat_minor": 2
}
