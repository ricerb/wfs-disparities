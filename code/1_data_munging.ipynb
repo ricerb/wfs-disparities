{
 "cells": [
  {
   "cell_type": "code",
   "execution_count": 51,
   "metadata": {},
   "outputs": [],
   "source": [
    "\"\"\"Assemble project dataset, including PM2.5 data, census data, regions, and urban/rural classification.\"\"\"\n",
    "\n",
    "import pandas as pd\n",
    "import numpy as np\n",
    "import geopandas\n",
    "\n",
    "import us"
   ]
  },
  {
   "cell_type": "markdown",
   "metadata": {},
   "source": [
    "# 1. Read PM2.5 data from 0_pm25_data.ipynb"
   ]
  },
  {
   "cell_type": "code",
   "execution_count": 52,
   "metadata": {},
   "outputs": [],
   "source": [
    "dfpm = pd.read_csv(\n",
    "    \"C:\\\\Users\\\\rrice\\\\OneDrive - Environmental Protection Agency (EPA)\\\\exposure disparities\\\\thesis intermediate dataset\\\\census tract pm25 datasets 11-15-2023.csv\"\n",
    ")"
   ]
  },
  {
   "cell_type": "code",
   "execution_count": 54,
   "metadata": {},
   "outputs": [],
   "source": [
    "# read in pm25 data\n",
    "# switch to wide format data\n",
    "\n",
    "dfpm_j = (\n",
    "    dfpm.reset_index()\n",
    "    .set_index([\"GEOID\", \"GISJOIN\", \"longitude\", \"latitude\", \"year\"])\n",
    "    .drop(columns=[\"index\"])\n",
    "    .unstack()\n",
    "    .reset_index()\n",
    "    .set_index([\"GEOID\", \"GISJOIN\", \"longitude\", \"latitude\"])\n",
    "    .dropna(axis=\"columns\", how=\"all\")\n",
    ")\n",
    "\n",
    "dfpm_j.columns = [\n",
    "    str(x).strip(\"()''\").replace(\"', \", \"_\").strip(\"_\")\n",
    "    for x in dfpm_j.columns.to_flat_index().tolist()\n",
    "]  # hack together nice column names\n",
    "dfpm_j = dfpm_j.reset_index()"
   ]
  },
  {
   "cell_type": "code",
   "execution_count": null,
   "metadata": {},
   "outputs": [],
   "source": [
    "pd.set_option(\"display.max_columns\", 100)\n",
    "\n",
    "dfpm_j.describe(include=\"all\")"
   ]
  },
  {
   "cell_type": "markdown",
   "metadata": {},
   "source": [
    "# 2. Add tract level demographic data"
   ]
  },
  {
   "cell_type": "code",
   "execution_count": 56,
   "metadata": {},
   "outputs": [],
   "source": [
    "# updated to get census data straight from the census API, in 0_census_data.ipynb\n",
    "dem_df = pd.read_csv(\n",
    "    \"C:\\\\Users\\\\rrice\\\\OneDrive - Environmental Protection Agency (EPA)\\\\exposure disparities\\\\2010 Census downloaded from API\\\\2010 census and 2006-2010 acs5 data downloaded 11-1-2023.csv\"\n",
    ")"
   ]
  },
  {
   "cell_type": "code",
   "execution_count": 57,
   "metadata": {},
   "outputs": [],
   "source": [
    "# split string using US, only keep second part\n",
    "\n",
    "dem_df[\"GEOID\"] = dem_df[\"GEO_ID\"].str.split(\"US\").str[1].astype(\"int64\")"
   ]
  },
  {
   "cell_type": "code",
   "execution_count": 58,
   "metadata": {},
   "outputs": [],
   "source": [
    "# get state abbreviations from fips codes\n",
    "\n",
    "abbr = []\n",
    "for fips in dem_df.state.unique():\n",
    "    try:\n",
    "        abbr.append(us.states.lookup(str(fips).zfill(2)).abbr)\n",
    "    except:\n",
    "        abbr.append(np.nan)\n",
    "abbr[-1] = \"DC\"\n",
    "\n",
    "state_map = dict(zip(dem_df.state.unique(), abbr))\n",
    "\n",
    "dem_df[\"state_abbr\"] = dem_df[\"state\"].replace(state_map)"
   ]
  },
  {
   "cell_type": "code",
   "execution_count": 59,
   "metadata": {},
   "outputs": [],
   "source": [
    "# join pollutant dataset with census data\n",
    "\n",
    "df = dfpm_j.set_index(\"GEOID\").join(dem_df.set_index(\"GEOID\"))"
   ]
  },
  {
   "cell_type": "markdown",
   "metadata": {},
   "source": [
    "# 3. Add EPA and NCA Regions"
   ]
  },
  {
   "cell_type": "code",
   "execution_count": 60,
   "metadata": {},
   "outputs": [],
   "source": [
    "epa_regions = {\n",
    "    \"CT\": \"Region 1\",\n",
    "    \"ME\": \"Region 1\",\n",
    "    \"MA\": \"Region 1\",\n",
    "    \"NH\": \"Region 1\",\n",
    "    \"RI\": \"Region 1\",\n",
    "    \"VT\": \"Region 1\",\n",
    "    \"NJ\": \"Region 2\",\n",
    "    \"NY\": \"Region 2\",\n",
    "    \"PR\": \"Region 2\",\n",
    "    \"VI\": \"Region 2\",\n",
    "    \"DE\": \"Region 3\",\n",
    "    \"DC\": \"Region 3\",\n",
    "    \"MD\": \"Region 3\",\n",
    "    \"PA\": \"Region 3\",\n",
    "    \"VA\": \"Region 3\",\n",
    "    \"WV\": \"Region 3\",\n",
    "    \"AL\": \"Region 4\",\n",
    "    \"FL\": \"Region 4\",\n",
    "    \"GA\": \"Region 4\",\n",
    "    \"KY\": \"Region 4\",\n",
    "    \"MS\": \"Region 4\",\n",
    "    \"NC\": \"Region 4\",\n",
    "    \"SC\": \"Region 4\",\n",
    "    \"TN\": \"Region 4\",\n",
    "    \"IL\": \"Region 5\",\n",
    "    \"IN\": \"Region 5\",\n",
    "    \"MI\": \"Region 5\",\n",
    "    \"MN\": \"Region 5\",\n",
    "    \"OH\": \"Region 5\",\n",
    "    \"WI\": \"Region 5\",\n",
    "    \"AR\": \"Region 6\",\n",
    "    \"LA\": \"Region 6\",\n",
    "    \"NM\": \"Region 6\",\n",
    "    \"OK\": \"Region 6\",\n",
    "    \"TX\": \"Region 6\",\n",
    "    \"IA\": \"Region 7\",\n",
    "    \"KS\": \"Region 7\",\n",
    "    \"MO\": \"Region 7\",\n",
    "    \"NE\": \"Region 7\",\n",
    "    \"CO\": \"Region 8\",\n",
    "    \"MT\": \"Region 8\",\n",
    "    \"ND\": \"Region 8\",\n",
    "    \"SD\": \"Region 8\",\n",
    "    \"UT\": \"Region 8\",\n",
    "    \"WY\": \"Region 8\",\n",
    "    \"AZ\": \"Region 9\",\n",
    "    \"CA\": \"Region 9\",\n",
    "    \"HI\": \"Region 9\",\n",
    "    \"NV\": \"Region 9\",\n",
    "    \"AS\": \"Region 9\",\n",
    "    \"GU\": \"Region 9\",\n",
    "    \"MP\": \"Region 9\",\n",
    "    \"AK\": \"Region 10\",\n",
    "    \"ID\": \"Region 10\",\n",
    "    \"OR\": \"Region 10\",\n",
    "    \"WA\": \"Region 10\",\n",
    "}\n",
    "df = pd.merge(\n",
    "    df,\n",
    "    pd.Series(epa_regions, name=\"EPA Region\"),\n",
    "    left_on=\"state_abbr\",\n",
    "    right_index=True,\n",
    ")"
   ]
  },
  {
   "cell_type": "code",
   "execution_count": 61,
   "metadata": {},
   "outputs": [],
   "source": [
    "# map states to NCA regions\n",
    "# source: https://scenarios.globalchange.gov/regions_nca4\n",
    "\n",
    "nca_regions = {\n",
    "    \"Northwest\": [\n",
    "        \"WA\",\n",
    "        \"OR\",\n",
    "        \"ID\",\n",
    "    ],\n",
    "    \"Northern Great Plains\": [\"MT\", \"ND\", \"SD\", \"WY\", \"NE\"],\n",
    "    \"Midwest\": [\"MN\", \"WI\", \"MI\", \"IA\", \"IL\", \"IN\", \"OH\", \"MO\"],\n",
    "    \"Northeast\": [\n",
    "        \"ME\",\n",
    "        \"NH\",\n",
    "        \"VT\",\n",
    "        \"MA\",\n",
    "        \"RI\",\n",
    "        \"CT\",\n",
    "        \"NY\",\n",
    "        \"NJ\",\n",
    "        \"PA\",\n",
    "        \"WV\",\n",
    "        \"MD\",\n",
    "        \"DE\",\n",
    "        \"DC\",\n",
    "    ],\n",
    "    \"Southwest\": [\"CA\", \"NV\", \"UT\", \"CO\", \"AZ\", \"NM\"],\n",
    "    \"Southern Great Plains\": [\"TX\", \"OK\", \"KS\"],\n",
    "    \"Southeast\": [\"AR\", \"LA\", \"MS\", \"AL\", \"TN\", \"KY\", \"GA\", \"FL\", \"SC\", \"NC\", \"VA\"],\n",
    "}\n",
    "nca_s = (\n",
    "    pd.Series(nca_regions, name=\"state_abbr\")\n",
    "    .explode()\n",
    "    .reset_index()\n",
    "    .rename({\"index\": \"NCA Region\"}, axis=1)\n",
    ")\n",
    "\n",
    "df[\"NCA Region\"] = df[\"state_abbr\"].map(\n",
    "    nca_s.set_index(\"state_abbr\").to_dict()[\"NCA Region\"]\n",
    ")"
   ]
  },
  {
   "cell_type": "markdown",
   "metadata": {},
   "source": [
    "# 4. Add Rural-Urban Commuting Area Codes\n",
    "classified into categories according to Luben et al 2009"
   ]
  },
  {
   "cell_type": "code",
   "execution_count": 62,
   "metadata": {},
   "outputs": [],
   "source": [
    "# create ruca categories and join to dataset\n",
    "# source: https://www.ers.usda.gov/data-products/rural-urban-commuting-area-codes/documentation/\n",
    "# and categories from RUCA (group 1) in Messer et al 2009 https://doi.org/10.1016/j.annepidem.2009.09.006\n",
    "\n",
    "\"\"\"\n",
    "Messer et al text sent by Tom:\n",
    "\n",
    "For these analyses, we categorized RUCA based on both primary and secondary traffic flows. The RUCA categories based on primary flows are as follows:\n",
    "1) urban core area (RUCA code 1);\n",
    "2) suburban area (RUCA code 2);\n",
    "3) micropolitan area (RUCA codes 3, 4, 5, 6);\n",
    "4) small town area (RUCA codes 7, 8, 9); and\n",
    "5) rural area (RUCA code 10).\n",
    "\n",
    "RUCA categories based on secondary flow patterns include the following:\n",
    "1) urban focused (RUCA codes 1.0, 1.1, 2.0, 2.1, 3.0, 4.1, 5.1, 7.1, 8.1, 10.1);\n",
    "2) large rural/town (micropolitan) focused (RUCA codes 4.0, 4.2, 5.0, 5.2, 6.0, 6.1);\n",
    "3) small rural town focused (7.0, 7.2, 7.3, 7.4, 8.0, 8.2, 8.3, 8.4, 9.0, 9.1, 9.2);\n",
    "4) isolated small rural town focused (10.0, 10.2, 10.3, 10.4, 10.5, 10.6).\n",
    "\n",
    "\"\"\"\n",
    "\n",
    "ruca_df = pd.read_excel(\n",
    "    \"C:\\\\Users\\\\rrice\\\\OneDrive - Environmental Protection Agency (EPA)\\\\exposure disparities\\\\Rural-Urban Commuting Area Codes\\\\ruca2010revised.xlsx\",\n",
    "    skiprows=1,\n",
    "    dtype={\n",
    "        \"State-County-Tract FIPS Code (lookup by address at http://www.ffiec.gov/Geocode/)\": \"int64\",\n",
    "        \"Secondary RUCA Code, 2010 (see errata)\": str,\n",
    "    },\n",
    ").set_index(\n",
    "    \"State-County-Tract FIPS Code (lookup by address at http://www.ffiec.gov/Geocode/)\"\n",
    ")\n",
    "\n",
    "# add RUCA primary categories\n",
    "\n",
    "ruca_categories = {\n",
    "    1: \"Urban core\",\n",
    "    2: \"Suburban\",\n",
    "    3: \"Micropolitan\",\n",
    "    4: \"Micropolitan\",\n",
    "    5: \"Micropolitan\",\n",
    "    6: \"Micropolitan\",\n",
    "    7: \"Small town\",\n",
    "    8: \"Small town\",\n",
    "    9: \"Small town\",\n",
    "    10: \"Rural\",\n",
    "}\n",
    "\n",
    "df = df.join(ruca_df[\"Primary RUCA Code 2010\"].map(ruca_categories).rename(\"RUCA 1\"))"
   ]
  },
  {
   "cell_type": "code",
   "execution_count": 63,
   "metadata": {},
   "outputs": [],
   "source": [
    "# add in updated income data from Tom Luben\n",
    "\"\"\"\n",
    "From 6/14/2024 email from Tom:\n",
    "\n",
    "•\tFor all tracts within a CBSA: Identify if census tract is in 1st, 2nd, 3rd, or 4th quartile of Median Household Income compared with all other census tracts in that CBSA.\n",
    "•\tFor all tracts outside of a CBSA: Identify if census tract is in 1st, 2nd, 3rd, or 4th quartile of Median Household Income compared with all other census tracts in the same state that are not in a CBSA.\n",
    "\n",
    "\"\"\"\n",
    "\n",
    "\n",
    "income_df = pd.read_csv(\n",
    "    \"C:/Users/RRice/OneDrive - Environmental Protection Agency (EPA)/exposure disparities/thesis intermediate dataset/updated Census tract income quartiles 6-17-2024.csv\",\n",
    "    dtype={\"GEOID10\": \"int64\", \"Income quartile\": \"int64\"},\n",
    ").set_index(\"GEOID10\")\n",
    "\n",
    "df = df.join(income_df).drop(\"Per Capita Income\", axis=1)"
   ]
  },
  {
   "cell_type": "code",
   "execution_count": 64,
   "metadata": {},
   "outputs": [],
   "source": [
    "# export project dataset\n",
    "\n",
    "# backup version to onedrive\n",
    "df.to_csv(\n",
    "    \"C:\\\\Users\\\\rrice\\\\OneDrive - Environmental Protection Agency (EPA)\\\\exposure disparities\\\\thesis intermediate dataset\\\\total + wildfire pm and demographic data 6-17-2024.csv\"\n",
    ")\n",
    "\n",
    "# parquet file for data file in github\n",
    "df.to_parquet(\"data\\\\total + wildfire pm and demographic data 6-17-2024.parquet\")"
   ]
  },
  {
   "cell_type": "code",
   "execution_count": 65,
   "metadata": {},
   "outputs": [],
   "source": [
    "# export shapefile for use in GIS\n",
    "tract_polygons = geopandas.read_file(\n",
    "    \"C:\\\\Users\\\\rrice\\\\OneDrive - Environmental Protection Agency (EPA)\\\\exposure disparities\\\\nhgis0004_shape\\\\nhgis0004_shapefile_tl2010_us_tract_2010\\\\US_tract_2010.shp\",\n",
    "    dtype={\"GEOID10\": \"int64\"},\n",
    ")\n",
    "\n",
    "out_shape = geopandas.GeoDataFrame(df.join(tract_polygons[\"geometry\"]))\n",
    "\n",
    "tract_polygons[\"GEOID10\"] = tract_polygons[\"GEOID10\"].astype(\"int64\")\n",
    "\n",
    "out_shape = geopandas.GeoDataFrame(\n",
    "    df.join(tract_polygons.set_index(\"GEOID10\")[\"geometry\"])\n",
    ")\n",
    "\n",
    "out_shape.to_pickle(\"temp/out_shape.pkl\")"
   ]
  },
  {
   "cell_type": "code",
   "execution_count": null,
   "metadata": {},
   "outputs": [],
   "source": []
  }
 ],
 "metadata": {
  "kernelspec": {
   "display_name": "geocube_env",
   "language": "python",
   "name": "python3"
  },
  "language_info": {
   "codemirror_mode": {
    "name": "ipython",
    "version": 3
   },
   "file_extension": ".py",
   "mimetype": "text/x-python",
   "name": "python",
   "nbconvert_exporter": "python",
   "pygments_lexer": "ipython3",
   "version": "3.11.7"
  },
  "orig_nbformat": 4
 },
 "nbformat": 4,
 "nbformat_minor": 2
}
